{
  "nbformat": 4,
  "nbformat_minor": 0,
  "metadata": {
    "colab": {
      "name": "agent_anatomy.ipynb",
      "provenance": [],
      "collapsed_sections": []
    },
    "kernelspec": {
      "name": "python3",
      "display_name": "Python 3"
    }
  },
  "cells": [
    {
      "cell_type": "markdown",
      "metadata": {
        "id": "zmsMZ61nfFPT"
      },
      "source": [
        "# Agent Anatomy\n",
        "\n",
        "This is a modified code version from Chapter 2 of\n",
        "\n",
        "```\n",
        "Lapan, M. (2018). Deep Reinforcement Learning Hands-On. Birmingham, UK: Packt Publishing. \n",
        "```\n"
      ]
    },
    {
      "cell_type": "code",
      "metadata": {
        "id": "2k0jp1_SIbYF"
      },
      "source": [
        "import random\n",
        "import gym\n",
        "from gym import spaces"
      ],
      "execution_count": null,
      "outputs": []
    },
    {
      "cell_type": "code",
      "metadata": {
        "id": "i59BcnHqIceZ"
      },
      "source": [
        "class Environment(gym.Env):\n",
        "    def __init__(self):\n",
        "        self.steps_left = 10\n",
        "\n",
        "    def get_observation(self):\n",
        "      return [random.randint(0, 1) for _ in range(3)]\n",
        "\n",
        "    def get_actions(self):\n",
        "      return [0, 1]\n",
        "\n",
        "    def is_done(self):\n",
        "      return self.steps_left == 0\n",
        "\n",
        "    def step(self, action):\n",
        "      if self.is_done():\n",
        "        raise Exception(\"Game is over\")\n",
        "      self.steps_left -= action\n",
        "      return random.random()\n",
        "\n",
        "    def render(self):\n",
        "      pass\n",
        "\n",
        "    def close(self):\n",
        "      pass"
      ],
      "execution_count": null,
      "outputs": []
    },
    {
      "cell_type": "code",
      "metadata": {
        "id": "IGhT20JcIW6E"
      },
      "source": [
        "class Agent:\n",
        "    def __init__(self):\n",
        "        self.total_reward = 0.0\n",
        "\n",
        "    def step(self, env):\n",
        "        current_obs = env.get_observation()\n",
        "        all_actions = env.get_actions()\n",
        "\n",
        "        if sum(current_obs) == 3:\n",
        "          action = all_actions[1]\n",
        "        else: \n",
        "          action = random.choice(all_actions)\n",
        "          \n",
        "        reward = env.step(action)\n",
        "        print(f\"Agent: Action {action} : Reward {reward}\")\n",
        "        self.total_reward += reward\n"
      ],
      "execution_count": null,
      "outputs": []
    },
    {
      "cell_type": "code",
      "metadata": {
        "colab": {
          "base_uri": "https://localhost:8080/"
        },
        "id": "dLnEQEPdIfuf",
        "outputId": "a483bb33-c164-4dce-fd7b-0ea38ef2dc10"
      },
      "source": [
        "env = Environment()\n",
        "agent = Agent()\n",
        "\n",
        "while not env.is_done():\n",
        "  agent.step(env)"
      ],
      "execution_count": null,
      "outputs": [
        {
          "output_type": "stream",
          "text": [
            "Agent: Action 1 : Reward 0.7932088585443122\n",
            "Agent: Action 0 : Reward 0.42970848353079627\n",
            "Agent: Action 0 : Reward 0.6970854293445339\n",
            "Agent: Action 1 : Reward 0.9668478786562057\n",
            "Agent: Action 0 : Reward 0.2806841263317075\n",
            "Agent: Action 1 : Reward 0.15210205208611394\n",
            "Agent: Action 1 : Reward 0.2787187508399356\n",
            "Agent: Action 1 : Reward 0.16937883974179968\n",
            "Agent: Action 1 : Reward 0.5865962441732164\n",
            "Agent: Action 1 : Reward 0.4118013568104596\n",
            "Agent: Action 1 : Reward 0.4856309054735828\n",
            "Agent: Action 1 : Reward 0.5943656413857757\n",
            "Agent: Action 1 : Reward 0.9838598729574723\n"
          ],
          "name": "stdout"
        }
      ]
    },
    {
      "cell_type": "code",
      "metadata": {
        "id": "lH5C_PfJJ2wh",
        "colab": {
          "base_uri": "https://localhost:8080/"
        },
        "outputId": "668821d1-2acd-4fa1-f250-2284523c256c"
      },
      "source": [
        "print(\"Total reward got: %.4f\" % agent.total_reward)"
      ],
      "execution_count": null,
      "outputs": [
        {
          "output_type": "stream",
          "text": [
            "Total reward got: 6.8300\n"
          ],
          "name": "stdout"
        }
      ]
    }
  ]
}