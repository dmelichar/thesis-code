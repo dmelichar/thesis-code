{
  "nbformat": 4,
  "nbformat_minor": 0,
  "metadata": {
    "colab": {
      "name": "gym_experiments.ipynb",
      "provenance": []
    },
    "kernelspec": {
      "name": "python3",
      "display_name": "Python 3"
    }
  },
  "cells": [
    {
      "cell_type": "code",
      "metadata": {
        "id": "sMQ08WO4KXF3"
      },
      "source": [
        "import gym\n",
        "import random"
      ],
      "execution_count": null,
      "outputs": []
    },
    {
      "cell_type": "code",
      "metadata": {
        "id": "CX3yrlieP3EX"
      },
      "source": [
        "def make_env():\n",
        "  return gym.make(\"CartPole-v0\")"
      ],
      "execution_count": null,
      "outputs": []
    },
    {
      "cell_type": "code",
      "metadata": {
        "id": "UHrK_7e2LFof"
      },
      "source": [
        "def cartpole_random(env):\n",
        "  total_reward = 0.0\n",
        "  total_steps = 0\n",
        "  obs = env.reset()\n",
        "\n",
        "  while True:\n",
        "    action = env.action_space.sample()\n",
        "    obs, reward, done, _ = env.step(action)\n",
        "    total_reward += reward\n",
        "    total_steps += 1\n",
        "    if done:\n",
        "      break\n",
        "\n",
        "  print(\"Episode done in %d steps, total reward %.2f\" % (total_steps, total_reward))"
      ],
      "execution_count": null,
      "outputs": []
    },
    {
      "cell_type": "code",
      "metadata": {
        "colab": {
          "base_uri": "https://localhost:8080/"
        },
        "id": "C8EAE72SPlqt",
        "outputId": "9c35d413-6198-43fe-ded3-44e41e824b5b"
      },
      "source": [
        "cartpole_random(make_env())"
      ],
      "execution_count": null,
      "outputs": [
        {
          "output_type": "stream",
          "text": [
            "Episode done in 21 steps, total reward 21.00\n"
          ],
          "name": "stdout"
        }
      ]
    },
    {
      "cell_type": "code",
      "metadata": {
        "id": "LP8hAmNxLO8_"
      },
      "source": [
        "def cartpole_action_wrapper(env):\n",
        "\n",
        "  class RandomActionWrapper(gym.ActionWrapper):\n",
        "    def __init__(self, env, epsilon=0.1):\n",
        "        super(RandomActionWrapper, self).__init__(env)\n",
        "        self.epsilon = epsilon\n",
        "\n",
        "    def action(self, action):\n",
        "        if random.random() < self.epsilon:\n",
        "            print(\"Random!\")\n",
        "            return self.env.action_space.sample()\n",
        "        return action\n",
        "\n",
        "  env = RandomActionWrapper(env)\n",
        "\n",
        "  obs = env.reset()\n",
        "\n",
        "  total_reward = 0.0\n",
        "\n",
        "  while True:\n",
        "    obs, reward, done, _ = env.step(0)\n",
        "    total_reward += reward\n",
        "    if done:\n",
        "      break\n",
        "\n",
        "    print(\"Reward got: %.2f\" % total_reward)"
      ],
      "execution_count": null,
      "outputs": []
    },
    {
      "cell_type": "code",
      "metadata": {
        "colab": {
          "base_uri": "https://localhost:8080/"
        },
        "id": "KxJU3XPiPqCP",
        "outputId": "4ef10a9a-f9a0-4d47-ca26-9e31299688a8"
      },
      "source": [
        "cartpole_action_wrapper(make_env())"
      ],
      "execution_count": null,
      "outputs": [
        {
          "output_type": "stream",
          "text": [
            "Random!\n",
            "Reward got: 1.00\n",
            "Reward got: 2.00\n",
            "Reward got: 3.00\n",
            "Reward got: 4.00\n",
            "Reward got: 5.00\n",
            "Random!\n",
            "Reward got: 6.00\n",
            "Reward got: 7.00\n",
            "Reward got: 8.00\n",
            "Reward got: 9.00\n",
            "Reward got: 10.00\n",
            "Reward got: 11.00\n"
          ],
          "name": "stdout"
        }
      ]
    }
  ]
}